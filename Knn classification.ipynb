{
 "cells": [
  {
   "cell_type": "code",
   "execution_count": 1,
   "metadata": {},
   "outputs": [],
   "source": [
    "import numpy as np\n",
    "import pandas as pd\n",
    "from matplotlib import pyplot as plt\n",
    "from sklearn.neighbors import KNeighborsClassifier"
   ]
  },
  {
   "cell_type": "code",
   "execution_count": 7,
   "metadata": {},
   "outputs": [
    {
     "name": "stdout",
     "output_type": "stream",
     "text": [
      "   Restaurant ID  Price range  Aggregate rating  Votes Rating text\n",
      "0        6307637            3               4.8    304   Excellent\n",
      "1        6304287            3               4.5    590   Excellent\n",
      "2        6300002            4               4.4    270   Very Good\n",
      "3        6308506            4               4.9    365   Excellent\n",
      "4        6304302            4               4.8    229   Excellent\n"
     ]
    }
   ],
   "source": [
    "df=pd.read_csv('minorproject5.csv')\n",
    "print(df.head())"
   ]
  },
  {
   "cell_type": "code",
   "execution_count": 8,
   "metadata": {},
   "outputs": [],
   "source": [
    "#class will be my Rating text\n",
    "x=df.loc[:,'Aggregate rating':'Votes']\n",
    "y=df.loc[:,'Rating text']"
   ]
  },
  {
   "cell_type": "code",
   "execution_count": 9,
   "metadata": {},
   "outputs": [],
   "source": [
    "#Train the model"
   ]
  },
  {
   "cell_type": "code",
   "execution_count": 10,
   "metadata": {},
   "outputs": [
    {
     "name": "stdout",
     "output_type": "stream",
     "text": [
      "Accuracy of train sets :0.93\n"
     ]
    }
   ],
   "source": [
    "knn=KNeighborsClassifier()\n",
    "knn.fit(x,y)\n",
    "print('Accuracy of train sets :{:.2f}'.format(knn.score(x,y)))"
   ]
  },
  {
   "cell_type": "code",
   "execution_count": 11,
   "metadata": {},
   "outputs": [],
   "source": [
    "#test data set"
   ]
  },
  {
   "cell_type": "code",
   "execution_count": 12,
   "metadata": {},
   "outputs": [
    {
     "name": "stdout",
     "output_type": "stream",
     "text": [
      "Accuracy of test sets :1.00\n",
      "['Not Rated' 'Excellent']\n"
     ]
    }
   ],
   "source": [
    "x_test=[[0,0],[10,9000]]\n",
    "prediction=knn.predict(x_test)\n",
    "\n",
    "print('Accuracy of test sets :{:.2f}'.format(knn.score(x_test,prediction)))\n",
    "print(prediction)"
   ]
  },
  {
   "cell_type": "code",
   "execution_count": 13,
   "metadata": {},
   "outputs": [],
   "source": [
    "#plotting the graph"
   ]
  },
  {
   "cell_type": "code",
   "execution_count": 14,
   "metadata": {},
   "outputs": [
    {
     "data": {
      "image/png": "[encoded data removed]",
      "text/plain": [
       "<Figure size 432x288 with 1 Axes>"
      ]
     },
     "metadata": {},
     "output_type": "display_data"
    }
   ],
   "source": [
    "plt.xlabel('Rating Text')\n",
    "plt.ylabel('Restraunt ID')\n",
    "\n",
    "y=df.loc[:,'Restaurant ID']\n",
    "x=df.loc[:,'Rating text']\n",
    "plt.scatter(x,y,color='blue',label='Restaurant ID')\n",
    "\n",
    "#x=df.loc[:,'Price range']\n",
    "#y=df.loc[:,'Rating text']\n",
    "#plt.scatter(x,y,color='green',label='Price range')\n",
    "\n",
    "#x=df.loc[:,'Aggregate rating']\n",
    "#y=df.loc[:,'Rating text']\n",
    "#plt.scatter(x,y,color='red',label='Aggregate rating')\n",
    "\n",
    "#x=df.loc[:,'Votes']\n",
    "#y=df.loc[:,'Rating text']\n",
    "#plt.scatter(x,y,color='black',label='Votes')\n",
    "\n",
    "plt.legend(loc=4,prop={'size':5})\n",
    "plt.show()\n"
   ]
  },
  {
   "cell_type": "code",
   "execution_count": 15,
   "metadata": {},
   "outputs": [
    {
     "data": {
      "image/png": "[encoded data removed]",
      "text/plain": [
       "<Figure size 432x288 with 1 Axes>"
      ]
     },
     "metadata": {},
     "output_type": "display_data"
    }
   ],
   "source": [
    "plt.xlabel('Price Range')\n",
    "plt.ylabel('Restraunt ID')\n",
    "\n",
    "y=df.loc[:,'Restaurant ID']\n",
    "x=df.loc[:,'Price range']\n",
    "plt.scatter(x,y,color='green',label='Restaurant ID')\n",
    "\n",
    "plt.legend(loc=4,prop={'size':5})\n",
    "plt.show()"
   ]
  },
  {
   "cell_type": "code",
   "execution_count": null,
   "metadata": {},
   "outputs": [],
   "source": [
    "n=int(input('Enter price range:'))\n",
    "x=df.iloc[:,[0,1]].values\n",
    "print('Total data items',len(x))\n",
    "print(\"Restaurant ID's having price range {}=\".format(n))\n",
    "for i in range(len(x)):\n",
    "    if x[i][1]==n:\n",
    "        print(x[i][0])"
   ]
  },
  {
   "cell_type": "code",
   "execution_count": 55,
   "metadata": {},
   "outputs": [
    {
     "name": "stdout",
     "output_type": "stream",
     "text": [
      "Price range\n",
      "0    4444\n",
      "2    3113\n",
      "3    1408\n",
      "4     586\n",
      "dtype: int64\n"
     ]
    }
   ],
   "source": [
    "print(df.groupby('Price range').size())"
   ]
  },
  {
   "cell_type": "code",
   "execution_count": null,
   "metadata": {},
   "outputs": [],
   "source": [
    "n=int(input('Enter price range:'))\n",
    "rat=float(input('Enter Rating'))\n",
    "x=df.iloc[:,[0,1,2]].values\n",
    "print('Total data items',len(x))\n",
    "print(\"Restaurant ID's having price range {} and rating above {} =\".format(n,rat))\n",
    "no=0\n",
    "for i in range(len(x)):\n",
    "    if x[i][1]==n and x[i][2]>=rat:\n",
    "        print(x[i][0])\n",
    "        no+=1\n",
    "        \n",
    "print(\"Total number of items having the given requirements are\",no)        "
   ]
  },
  {
   "cell_type": "code",
   "execution_count": null,
   "metadata": {
    "scrolled": false
   },
   "outputs": [],
   "source": [
    "knn=KNeighborsClassifier('n_neighbhors=100')\n",
    "knn.fit(x_train,y_train)\n",
    "\n",
    "print('Accuracy of k-NN classifier on training set: {:.2f}'.format(knn.score(x_train,y_train)))\n",
    "print('Accuracy of k-NN classifier on test set: {:.2f}'.format(knn.score(x_test,y_test)))"
   ]
  },
  {
   "cell_type": "code",
   "execution_count": null,
   "metadata": {},
   "outputs": [],
   "source": []
  }
 ],
 "metadata": {
  "kernelspec": {
   "display_name": "Python 3",
   "language": "python",
   "name": "python3"
  },
  "language_info": {
   "codemirror_mode": {
    "name": "ipython",
    "version": 3
   },
   "file_extension": ".py",
   "mimetype": "text/x-python",
   "name": "python",
   "nbconvert_exporter": "python",
   "pygments_lexer": "ipython3",
   "version": "3.6.5"
  }
 },
 "nbformat": 4,
 "nbformat_minor": 2
}
