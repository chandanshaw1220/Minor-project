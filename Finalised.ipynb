#!/usr/bin/env python
# coding: utf-8

# In[1]:


import pandas as pd
import numpy as np
df1=pd.read_csv('chennai')
print(df1.head())


# In[62]:


#current location
import geocoder
g = geocoder.ip('me')
curren=tuple(g.latlng)
lst=list(curren)
lst[0],lst[1]=(lst[0]-.053191),(lst[1]-.080253)  #calibrating the error
current=tuple(lst)
print("current=",current) #corrected value
print(curren) #original value


# In[64]:


#adding distance column
from geopy.distance import geodesic
d=[]
for i in range(df1.shape[0]):
    d.append(geodesic(current,df1.iloc[i]['Location']).kilometers)
se1=pd.Series(d)    
df1['Distance']=se1.values
df1.head()


# In[65]:


#getting categories in a list
arr=df1.CATEGORY.unique()
l=arr.tolist()
print(arr)
print(l)


# In[52]:


#getting categories and radius from user
print("Enter your choice (1 for yes and 0 for no) :\n")
l1=[]
for i in range(len(l)):
    x=int(input(l[i],))
    t=(l[i],x)
    l1.append(list(t))
k=int(input('Enter search area'))    
print(l1)


# In[16]:


#creating list of selected categories
l2=[]
for i in range(len(l)):
    if l1[i][1]==1:
        l2.append(l[i])
print(l2)        


# In[57]:


#creating dataset of selected categories
df2=df1[df1['CATEGORY'].isin(l2)]
df2=df2.reset_index(drop=True)
df2.head()


# In[61]:


#
df3=df2[df2['Distance']<k]
df3=df3.sort_values(['Distance'], ascending=True)
df3=df3.reset_index(drop=True)
df3.head()


# In[ ]:




